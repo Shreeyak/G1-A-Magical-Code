{
 "cells": [
  {
   "cell_type": "code",
   "execution_count": 43,
   "metadata": {},
   "outputs": [],
   "source": [
    "from sklearn.linear_model import LinearRegression\n",
    "from itertools import combinations\n",
    "import numpy as np"
   ]
  },
  {
   "cell_type": "code",
   "execution_count": 39,
   "metadata": {},
   "outputs": [],
   "source": [
    "def eq(x):\n",
    "    return (5 * x**4) + (10 * x**3) + (2 * x**2) + (19 * x) + 1"
   ]
  },
  {
   "cell_type": "code",
   "execution_count": 65,
   "metadata": {},
   "outputs": [],
   "source": [
    "x = []\n",
    "y = []\n",
    "\n",
    "for i in range(8):\n",
    "    x.append([1, i, i**2, i**3, i**4])\n",
    "\n",
    "for x_arr in x:\n",
    "    y.append(eq(x_arr[1]))"
   ]
  },
  {
   "cell_type": "code",
   "execution_count": 66,
   "metadata": {},
   "outputs": [],
   "source": [
    "y[3] = (y[3] * 10) + 2\n",
    "y[5] = int(\"1\" + str(y[5]))"
   ]
  },
  {
   "cell_type": "code",
   "execution_count": 20,
   "metadata": {},
   "outputs": [
    {
     "name": "stdout",
     "output_type": "stream",
     "text": [
      "0.41812143735666507\n"
     ]
    }
   ],
   "source": [
    "reg = LinearRegression().fit(x, y)\n",
    "print(reg.score(x, y))"
   ]
  },
  {
   "cell_type": "code",
   "execution_count": 30,
   "metadata": {},
   "outputs": [],
   "source": [
    "def argmax_error(x, y, model):\n",
    "    argmax = -1\n",
    "    max_error = -1\n",
    "\n",
    "    log = []\n",
    "\n",
    "    for i in range(len(x)):\n",
    "        x_val = x[i]\n",
    "        err = abs(y[i] - model.predict([x_val]))\n",
    "\n",
    "        log.append(\"x = \" + str(x_val[1]) + \"\\n\" + \"err = \" + str(err))\n",
    "        '''print(\"x = \" + str(x_val[1]))\n",
    "        print(\"err = \" + str(err))'''\n",
    "\n",
    "        if err >= max_error:\n",
    "            max_error = err\n",
    "            argmax = x_val[1]\n",
    "    \n",
    "    return argmax, max_error, log"
   ]
  },
  {
   "cell_type": "code",
   "execution_count": 22,
   "metadata": {},
   "outputs": [
    {
     "name": "stdout",
     "output_type": "stream",
     "text": [
      "eliminate x = 3\n",
      "it has an error of [33493.93939394]\n"
     ]
    }
   ],
   "source": [
    "argmax_e, e = argmax_error(x, y, reg)\n",
    "print(\"eliminate x = \" + str(argmax_e))\n",
    "print(\"it has an error of \" + str(e))"
   ]
  },
  {
   "cell_type": "code",
   "execution_count": 23,
   "metadata": {},
   "outputs": [
    {
     "name": "stdout",
     "output_type": "stream",
     "text": [
      "0.8962106760700185\n"
     ]
    }
   ],
   "source": [
    "x.pop(3)\n",
    "y.pop(3)\n",
    "\n",
    "reg = LinearRegression().fit(x, y)\n",
    "print(reg.score(x, y))"
   ]
  },
  {
   "cell_type": "code",
   "execution_count": 31,
   "metadata": {},
   "outputs": [
    {
     "name": "stdout",
     "output_type": "stream",
     "text": [
      "eliminate x = 2\n",
      "it has an error of [2380.95238095]\n",
      "---------------\n",
      "x = 0\n",
      "err = [476.19047619]\n",
      "x = 1\n",
      "err = [1904.76190476]\n",
      "x = 2\n",
      "err = [2380.95238095]\n",
      "x = 4\n",
      "err = [2380.95238095]\n",
      "x = 5\n",
      "err = [1904.76190476]\n",
      "x = 6\n",
      "err = [476.19047619]\n"
     ]
    }
   ],
   "source": [
    "argmax_e, e, log = argmax_error(x, y, reg)\n",
    "print(\"eliminate x = \" + str(argmax_e))\n",
    "print(\"it has an error of \" + str(e))\n",
    "\n",
    "print(\"---------------\")\n",
    "\n",
    "for string in log:\n",
    "    print(string)"
   ]
  },
  {
   "cell_type": "code",
   "execution_count": 67,
   "metadata": {},
   "outputs": [
    {
     "name": "stdout",
     "output_type": "stream",
     "text": [
      "28\n",
      "1.0\n",
      "(0, 1, 2, 4, 6, 7)\n"
     ]
    }
   ],
   "source": [
    "def find_best_model(x, y):\n",
    "    total_idxs = [i for i in range(len(x))]\n",
    "\n",
    "    best_score = -1\n",
    "    best_x = []\n",
    "    best_model = None\n",
    "\n",
    "    print(len([0 for _ in combinations(total_idxs, len(x[0]) + 1)]))\n",
    "    for comb in combinations(total_idxs, len(x[0]) + 1):\n",
    "        x_subset = np.take(x, comb, axis=0)\n",
    "        y_subset = np.take(y, comb, axis=0)\n",
    "        \n",
    "        model = LinearRegression().fit(x_subset, y_subset)\n",
    "        score = model.score(x_subset, y_subset)\n",
    "\n",
    "        if score > best_score:\n",
    "            best_score = score\n",
    "            best_model = model\n",
    "            best_x = comb\n",
    "    \n",
    "    return best_model, best_score, best_x\n",
    "\n",
    "model, score, best_x = find_best_model(x, y)\n",
    "\n",
    "print(score)\n",
    "print(best_x)"
   ]
  },
  {
   "cell_type": "code",
   "execution_count": 68,
   "metadata": {},
   "outputs": [
    {
     "name": "stdout",
     "output_type": "stream",
     "text": [
      "[ 0. 19.  2. 10.  5.]\n"
     ]
    }
   ],
   "source": [
    "print(model.coef_)"
   ]
  }
 ],
 "metadata": {
  "kernelspec": {
   "display_name": "Python 3.9.13 ('base')",
   "language": "python",
   "name": "python3"
  },
  "language_info": {
   "codemirror_mode": {
    "name": "ipython",
    "version": 3
   },
   "file_extension": ".py",
   "mimetype": "text/x-python",
   "name": "python",
   "nbconvert_exporter": "python",
   "pygments_lexer": "ipython3",
   "version": "3.9.13"
  },
  "orig_nbformat": 4,
  "vscode": {
   "interpreter": {
    "hash": "e774f984a7ccb7cc957383b5a783e6d2e75abfee2ec178600ef0d4537de4143e"
   }
  }
 },
 "nbformat": 4,
 "nbformat_minor": 2
}
