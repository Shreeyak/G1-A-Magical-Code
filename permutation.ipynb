{
 "cells": [
  {
   "cell_type": "code",
   "execution_count": 7,
   "metadata": {},
   "outputs": [],
   "source": [
    "import math\n",
    "import os"
   ]
  },
  {
   "cell_type": "code",
   "execution_count": 73,
   "metadata": {},
   "outputs": [],
   "source": [
    "UNTOK = '*'\n",
    "EMPTY = ''\n",
    "DICT_SIZE = 10000\n",
    "SENTENCE_LEN = 6\n",
    "\n",
    "class Perm:\n",
    "    def __init__(self, n=26):\n",
    "        self.encoding_len = n\n",
    "        # characters = \" 1234567890abcdefghijklmnopqrstuvwxyz\"\n",
    "        # self.char_dict, self.bin_dict = self.binary_encoding_dicts(characters)\n",
    "        self.perm_zero = list(range(50-n, 50))\n",
    "        factorials = [0] * n\n",
    "        for i in range(n):\n",
    "            factorials[i] = math.factorial(n-i-1)\n",
    "        self.factorials = factorials\n",
    "\n",
    "        words_dict = {EMPTY: 0}\n",
    "        words_index = [EMPTY]\n",
    "        with open('/Users/kyleli/Documents/COMS4444/project_3/G1-A-Magical-Code/messages/agent7/30k_old.txt') as f:\n",
    "            for i in range(1, DICT_SIZE-1):     # reserve 1 for empty and 1 for unknown\n",
    "                word = f.readline().rstrip('\\t\\n')\n",
    "                words_dict[word] = i\n",
    "                words_index.append(word)\n",
    "        words_dict[UNTOK] = DICT_SIZE-1\n",
    "        words_index.append(UNTOK)\n",
    "        self.words_dict = words_dict\n",
    "        self.words_index = words_index\n",
    "\n",
    "    def perm_number(self, permutation):\n",
    "        n = len(permutation)\n",
    "        # s = sorted(permutation)\n",
    "        number = 0\n",
    "\n",
    "        for i in range(n):\n",
    "            k = 0\n",
    "            for j in range(i + 1, n):\n",
    "                if permutation[j] < permutation[i]:\n",
    "                    k += 1\n",
    "            number += k * self.factorials[i]\n",
    "        return number\n",
    "\n",
    "    def nth_perm(self, n):\n",
    "        print(n)\n",
    "        perm = []\n",
    "        items = self.perm_zero[:]\n",
    "        for f in self.factorials:\n",
    "            lehmer = n // f\n",
    "            perm.append(items.pop(lehmer))\n",
    "            n %= f\n",
    "        return perm\n",
    "        \n",
    "    def str_to_perm(self, message):\n",
    "        tokens = message.split()\n",
    "        init = [EMPTY for i in range(SENTENCE_LEN)]\n",
    "        for i in range(len(tokens)):\n",
    "            init[i] = tokens[i]\n",
    "        tokens = init[::-1]\n",
    "        num = 0\n",
    "        for i in range(SENTENCE_LEN):\n",
    "            num += self.words_dict.get(tokens[i], DICT_SIZE-1) * DICT_SIZE**i\n",
    "        return self.nth_perm(num)\n",
    "\n",
    "    def perm_to_str(self, perm):\n",
    "        num = self.perm_number(perm)\n",
    "        words = []\n",
    "        for i in range(SENTENCE_LEN):\n",
    "            index = num % DICT_SIZE\n",
    "            words.append(self.words_index[index])\n",
    "            num = num // DICT_SIZE\n",
    "        return ' '.join(words[::-1]).strip()"
   ]
  },
  {
   "cell_type": "code",
   "execution_count": 77,
   "metadata": {},
   "outputs": [
    {
     "name": "stdout",
     "output_type": "stream",
     "text": [
      "242001190000000000000000\n",
      "card seq = [35, 34, 32, 43, 29, 39, 45, 30, 28, 40, 47, 49, 38, 41, 46, 27, 26, 31, 48, 36, 42, 44, 33, 37]\n",
      "recovered string = hello world\n"
     ]
    }
   ],
   "source": [
    "test_perm = Perm(n=24)\n",
    "card_perm = test_perm.str_to_perm(\"hello world\")\n",
    "print(\"card seq = \" + str(card_perm))\n",
    "decoded_str = test_perm.perm_to_str(card_perm)\n",
    "print(\"recovered string = \" + decoded_str)"
   ]
  }
 ],
 "metadata": {
  "kernelspec": {
   "display_name": "Python 3.9.13 ('base')",
   "language": "python",
   "name": "python3"
  },
  "language_info": {
   "codemirror_mode": {
    "name": "ipython",
    "version": 3
   },
   "file_extension": ".py",
   "mimetype": "text/x-python",
   "name": "python",
   "nbconvert_exporter": "python",
   "pygments_lexer": "ipython3",
   "version": "3.9.13"
  },
  "orig_nbformat": 4,
  "vscode": {
   "interpreter": {
    "hash": "e774f984a7ccb7cc957383b5a783e6d2e75abfee2ec178600ef0d4537de4143e"
   }
  }
 },
 "nbformat": 4,
 "nbformat_minor": 2
}
